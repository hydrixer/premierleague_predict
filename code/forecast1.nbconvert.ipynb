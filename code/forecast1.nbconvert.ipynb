{
 "cells": [
  {
   "cell_type": "code",
   "execution_count": 1,
   "metadata": {
    "execution": {
     "iopub.execute_input": "2025-01-20T08:18:30.799307Z",
     "iopub.status.busy": "2025-01-20T08:18:30.799113Z",
     "iopub.status.idle": "2025-01-20T08:18:31.701590Z",
     "shell.execute_reply": "2025-01-20T08:18:31.700914Z"
    }
   },
   "outputs": [],
   "source": [
    "from sklearn.preprocessing import LabelEncoder\n",
    "import pandas as pd\n",
    "from IPython.display import display\n",
    "from bs4 import BeautifulSoup\n",
    "import pandas as pd\n",
    "from io import StringIO\n",
    "import requests\n",
    "import time\n",
    "from post_predict import update_ui"
   ]
  },
  {
   "cell_type": "code",
   "execution_count": 2,
   "metadata": {
    "execution": {
     "iopub.execute_input": "2025-01-20T08:18:31.704052Z",
     "iopub.status.busy": "2025-01-20T08:18:31.703735Z",
     "iopub.status.idle": "2025-01-20T08:18:31.723017Z",
     "shell.execute_reply": "2025-01-20T08:18:31.722407Z"
    }
   },
   "outputs": [],
   "source": [
    "df1 = pd.read_csv('matches2.csv')\n",
    "df2 = pd.read_csv('matches.csv')\n",
    "df2 = df2.drop(columns=['Unnamed: 0','notes','match report','formation','pk','pkatt'])\n",
    "df1 = df1.drop(columns=['Unnamed: 0','notes','match report','formation','opp formation','pk','pkatt'])\n",
    "\n",
    "matches = pd.concat([df1,df2], axis=0)"
   ]
  },
  {
   "cell_type": "code",
   "execution_count": 3,
   "metadata": {
    "execution": {
     "iopub.execute_input": "2025-01-20T08:18:31.725647Z",
     "iopub.status.busy": "2025-01-20T08:18:31.725123Z",
     "iopub.status.idle": "2025-01-20T08:18:31.756460Z",
     "shell.execute_reply": "2025-01-20T08:18:31.755697Z"
    }
   },
   "outputs": [
    {
     "data": {
      "text/html": [
       "<div>\n",
       "<style scoped>\n",
       "    .dataframe tbody tr th:only-of-type {\n",
       "        vertical-align: middle;\n",
       "    }\n",
       "\n",
       "    .dataframe tbody tr th {\n",
       "        vertical-align: top;\n",
       "    }\n",
       "\n",
       "    .dataframe thead th {\n",
       "        text-align: right;\n",
       "    }\n",
       "</style>\n",
       "<table border=\"1\" class=\"dataframe\">\n",
       "  <thead>\n",
       "    <tr style=\"text-align: right;\">\n",
       "      <th></th>\n",
       "      <th>date</th>\n",
       "      <th>time</th>\n",
       "      <th>comp</th>\n",
       "      <th>round</th>\n",
       "      <th>day</th>\n",
       "      <th>venue</th>\n",
       "      <th>result</th>\n",
       "      <th>gf</th>\n",
       "      <th>ga</th>\n",
       "      <th>opponent</th>\n",
       "      <th>...</th>\n",
       "      <th>poss</th>\n",
       "      <th>attendance</th>\n",
       "      <th>captain</th>\n",
       "      <th>referee</th>\n",
       "      <th>sh</th>\n",
       "      <th>sot</th>\n",
       "      <th>dist</th>\n",
       "      <th>fk</th>\n",
       "      <th>season</th>\n",
       "      <th>team</th>\n",
       "    </tr>\n",
       "  </thead>\n",
       "  <tbody>\n",
       "    <tr>\n",
       "      <th>0</th>\n",
       "      <td>2024-08-17</td>\n",
       "      <td>12:30</td>\n",
       "      <td>Premier League</td>\n",
       "      <td>Matchweek 1</td>\n",
       "      <td>Sat</td>\n",
       "      <td>Away</td>\n",
       "      <td>W</td>\n",
       "      <td>2.0</td>\n",
       "      <td>0.0</td>\n",
       "      <td>Ipswich Town</td>\n",
       "      <td>...</td>\n",
       "      <td>62.0</td>\n",
       "      <td>30014.0</td>\n",
       "      <td>Virgil van Dijk</td>\n",
       "      <td>Tim Robinson</td>\n",
       "      <td>18.0</td>\n",
       "      <td>5.0</td>\n",
       "      <td>14.8</td>\n",
       "      <td>0.0</td>\n",
       "      <td>2024.0</td>\n",
       "      <td>Liverpool</td>\n",
       "    </tr>\n",
       "    <tr>\n",
       "      <th>1</th>\n",
       "      <td>2024-08-25</td>\n",
       "      <td>16:30</td>\n",
       "      <td>Premier League</td>\n",
       "      <td>Matchweek 2</td>\n",
       "      <td>Sun</td>\n",
       "      <td>Home</td>\n",
       "      <td>W</td>\n",
       "      <td>2.0</td>\n",
       "      <td>0.0</td>\n",
       "      <td>Brentford</td>\n",
       "      <td>...</td>\n",
       "      <td>62.0</td>\n",
       "      <td>60017.0</td>\n",
       "      <td>Virgil van Dijk</td>\n",
       "      <td>Stuart Attwell</td>\n",
       "      <td>19.0</td>\n",
       "      <td>8.0</td>\n",
       "      <td>13.6</td>\n",
       "      <td>1.0</td>\n",
       "      <td>2024.0</td>\n",
       "      <td>Liverpool</td>\n",
       "    </tr>\n",
       "    <tr>\n",
       "      <th>2</th>\n",
       "      <td>2024-09-01</td>\n",
       "      <td>16:00</td>\n",
       "      <td>Premier League</td>\n",
       "      <td>Matchweek 3</td>\n",
       "      <td>Sun</td>\n",
       "      <td>Away</td>\n",
       "      <td>W</td>\n",
       "      <td>3.0</td>\n",
       "      <td>0.0</td>\n",
       "      <td>Manchester Utd</td>\n",
       "      <td>...</td>\n",
       "      <td>47.0</td>\n",
       "      <td>73738.0</td>\n",
       "      <td>Virgil van Dijk</td>\n",
       "      <td>Anthony Taylor</td>\n",
       "      <td>11.0</td>\n",
       "      <td>3.0</td>\n",
       "      <td>13.4</td>\n",
       "      <td>0.0</td>\n",
       "      <td>2024.0</td>\n",
       "      <td>Liverpool</td>\n",
       "    </tr>\n",
       "    <tr>\n",
       "      <th>3</th>\n",
       "      <td>2024-09-14</td>\n",
       "      <td>15:00</td>\n",
       "      <td>Premier League</td>\n",
       "      <td>Matchweek 4</td>\n",
       "      <td>Sat</td>\n",
       "      <td>Home</td>\n",
       "      <td>L</td>\n",
       "      <td>0.0</td>\n",
       "      <td>1.0</td>\n",
       "      <td>Nott'ham Forest</td>\n",
       "      <td>...</td>\n",
       "      <td>68.0</td>\n",
       "      <td>60344.0</td>\n",
       "      <td>Virgil van Dijk</td>\n",
       "      <td>Michael Oliver</td>\n",
       "      <td>14.0</td>\n",
       "      <td>5.0</td>\n",
       "      <td>14.9</td>\n",
       "      <td>0.0</td>\n",
       "      <td>2024.0</td>\n",
       "      <td>Liverpool</td>\n",
       "    </tr>\n",
       "    <tr>\n",
       "      <th>4</th>\n",
       "      <td>2024-09-21</td>\n",
       "      <td>15:00</td>\n",
       "      <td>Premier League</td>\n",
       "      <td>Matchweek 5</td>\n",
       "      <td>Sat</td>\n",
       "      <td>Home</td>\n",
       "      <td>W</td>\n",
       "      <td>3.0</td>\n",
       "      <td>0.0</td>\n",
       "      <td>Bournemouth</td>\n",
       "      <td>...</td>\n",
       "      <td>58.0</td>\n",
       "      <td>60347.0</td>\n",
       "      <td>Virgil van Dijk</td>\n",
       "      <td>Tony Harrington</td>\n",
       "      <td>19.0</td>\n",
       "      <td>12.0</td>\n",
       "      <td>16.6</td>\n",
       "      <td>0.0</td>\n",
       "      <td>2024.0</td>\n",
       "      <td>Liverpool</td>\n",
       "    </tr>\n",
       "    <tr>\n",
       "      <th>...</th>\n",
       "      <td>...</td>\n",
       "      <td>...</td>\n",
       "      <td>...</td>\n",
       "      <td>...</td>\n",
       "      <td>...</td>\n",
       "      <td>...</td>\n",
       "      <td>...</td>\n",
       "      <td>...</td>\n",
       "      <td>...</td>\n",
       "      <td>...</td>\n",
       "      <td>...</td>\n",
       "      <td>...</td>\n",
       "      <td>...</td>\n",
       "      <td>...</td>\n",
       "      <td>...</td>\n",
       "      <td>...</td>\n",
       "      <td>...</td>\n",
       "      <td>...</td>\n",
       "      <td>...</td>\n",
       "      <td>...</td>\n",
       "      <td>...</td>\n",
       "    </tr>\n",
       "    <tr>\n",
       "      <th>1384</th>\n",
       "      <td>2021-05-02</td>\n",
       "      <td>19:15</td>\n",
       "      <td>Premier League</td>\n",
       "      <td>Matchweek 34</td>\n",
       "      <td>Sun</td>\n",
       "      <td>Away</td>\n",
       "      <td>L</td>\n",
       "      <td>0.0</td>\n",
       "      <td>4.0</td>\n",
       "      <td>Tottenham</td>\n",
       "      <td>...</td>\n",
       "      <td>34.0</td>\n",
       "      <td>NaN</td>\n",
       "      <td>John Egan</td>\n",
       "      <td>Andre Marriner</td>\n",
       "      <td>8.0</td>\n",
       "      <td>1.0</td>\n",
       "      <td>17.4</td>\n",
       "      <td>0.0</td>\n",
       "      <td>2021.0</td>\n",
       "      <td>Sheffield United</td>\n",
       "    </tr>\n",
       "    <tr>\n",
       "      <th>1385</th>\n",
       "      <td>2021-05-08</td>\n",
       "      <td>15:00</td>\n",
       "      <td>Premier League</td>\n",
       "      <td>Matchweek 35</td>\n",
       "      <td>Sat</td>\n",
       "      <td>Home</td>\n",
       "      <td>L</td>\n",
       "      <td>0.0</td>\n",
       "      <td>2.0</td>\n",
       "      <td>Crystal Palace</td>\n",
       "      <td>...</td>\n",
       "      <td>50.0</td>\n",
       "      <td>NaN</td>\n",
       "      <td>John Egan</td>\n",
       "      <td>Simon Hooper</td>\n",
       "      <td>7.0</td>\n",
       "      <td>0.0</td>\n",
       "      <td>11.4</td>\n",
       "      <td>1.0</td>\n",
       "      <td>2021.0</td>\n",
       "      <td>Sheffield United</td>\n",
       "    </tr>\n",
       "    <tr>\n",
       "      <th>1386</th>\n",
       "      <td>2021-05-16</td>\n",
       "      <td>19:00</td>\n",
       "      <td>Premier League</td>\n",
       "      <td>Matchweek 36</td>\n",
       "      <td>Sun</td>\n",
       "      <td>Away</td>\n",
       "      <td>W</td>\n",
       "      <td>1.0</td>\n",
       "      <td>0.0</td>\n",
       "      <td>Everton</td>\n",
       "      <td>...</td>\n",
       "      <td>38.0</td>\n",
       "      <td>NaN</td>\n",
       "      <td>John Egan</td>\n",
       "      <td>Jonathan Moss</td>\n",
       "      <td>10.0</td>\n",
       "      <td>3.0</td>\n",
       "      <td>17.0</td>\n",
       "      <td>0.0</td>\n",
       "      <td>2021.0</td>\n",
       "      <td>Sheffield United</td>\n",
       "    </tr>\n",
       "    <tr>\n",
       "      <th>1387</th>\n",
       "      <td>2021-05-19</td>\n",
       "      <td>18:00</td>\n",
       "      <td>Premier League</td>\n",
       "      <td>Matchweek 37</td>\n",
       "      <td>Wed</td>\n",
       "      <td>Away</td>\n",
       "      <td>L</td>\n",
       "      <td>0.0</td>\n",
       "      <td>1.0</td>\n",
       "      <td>Newcastle Utd</td>\n",
       "      <td>...</td>\n",
       "      <td>50.0</td>\n",
       "      <td>10000.0</td>\n",
       "      <td>John Egan</td>\n",
       "      <td>Robert Jones</td>\n",
       "      <td>11.0</td>\n",
       "      <td>1.0</td>\n",
       "      <td>16.0</td>\n",
       "      <td>1.0</td>\n",
       "      <td>2021.0</td>\n",
       "      <td>Sheffield United</td>\n",
       "    </tr>\n",
       "    <tr>\n",
       "      <th>1388</th>\n",
       "      <td>2021-05-23</td>\n",
       "      <td>16:00</td>\n",
       "      <td>Premier League</td>\n",
       "      <td>Matchweek 38</td>\n",
       "      <td>Sun</td>\n",
       "      <td>Home</td>\n",
       "      <td>W</td>\n",
       "      <td>1.0</td>\n",
       "      <td>0.0</td>\n",
       "      <td>Burnley</td>\n",
       "      <td>...</td>\n",
       "      <td>41.0</td>\n",
       "      <td>5000.0</td>\n",
       "      <td>John Egan</td>\n",
       "      <td>Kevin Friend</td>\n",
       "      <td>12.0</td>\n",
       "      <td>3.0</td>\n",
       "      <td>17.0</td>\n",
       "      <td>0.0</td>\n",
       "      <td>2021.0</td>\n",
       "      <td>Sheffield United</td>\n",
       "    </tr>\n",
       "  </tbody>\n",
       "</table>\n",
       "<p>2577 rows × 22 columns</p>\n",
       "</div>"
      ],
      "text/plain": [
       "           date   time            comp         round  day venue result   gf  \\\n",
       "0    2024-08-17  12:30  Premier League   Matchweek 1  Sat  Away      W  2.0   \n",
       "1    2024-08-25  16:30  Premier League   Matchweek 2  Sun  Home      W  2.0   \n",
       "2    2024-09-01  16:00  Premier League   Matchweek 3  Sun  Away      W  3.0   \n",
       "3    2024-09-14  15:00  Premier League   Matchweek 4  Sat  Home      L  0.0   \n",
       "4    2024-09-21  15:00  Premier League   Matchweek 5  Sat  Home      W  3.0   \n",
       "...         ...    ...             ...           ...  ...   ...    ...  ...   \n",
       "1384 2021-05-02  19:15  Premier League  Matchweek 34  Sun  Away      L  0.0   \n",
       "1385 2021-05-08  15:00  Premier League  Matchweek 35  Sat  Home      L  0.0   \n",
       "1386 2021-05-16  19:00  Premier League  Matchweek 36  Sun  Away      W  1.0   \n",
       "1387 2021-05-19  18:00  Premier League  Matchweek 37  Wed  Away      L  0.0   \n",
       "1388 2021-05-23  16:00  Premier League  Matchweek 38  Sun  Home      W  1.0   \n",
       "\n",
       "       ga         opponent  ...  poss  attendance          captain  \\\n",
       "0     0.0     Ipswich Town  ...  62.0     30014.0  Virgil van Dijk   \n",
       "1     0.0        Brentford  ...  62.0     60017.0  Virgil van Dijk   \n",
       "2     0.0   Manchester Utd  ...  47.0     73738.0  Virgil van Dijk   \n",
       "3     1.0  Nott'ham Forest  ...  68.0     60344.0  Virgil van Dijk   \n",
       "4     0.0      Bournemouth  ...  58.0     60347.0  Virgil van Dijk   \n",
       "...   ...              ...  ...   ...         ...              ...   \n",
       "1384  4.0        Tottenham  ...  34.0         NaN        John Egan   \n",
       "1385  2.0   Crystal Palace  ...  50.0         NaN        John Egan   \n",
       "1386  0.0          Everton  ...  38.0         NaN        John Egan   \n",
       "1387  1.0    Newcastle Utd  ...  50.0     10000.0        John Egan   \n",
       "1388  0.0          Burnley  ...  41.0      5000.0        John Egan   \n",
       "\n",
       "              referee    sh   sot  dist   fk  season              team  \n",
       "0        Tim Robinson  18.0   5.0  14.8  0.0  2024.0         Liverpool  \n",
       "1      Stuart Attwell  19.0   8.0  13.6  1.0  2024.0         Liverpool  \n",
       "2      Anthony Taylor  11.0   3.0  13.4  0.0  2024.0         Liverpool  \n",
       "3      Michael Oliver  14.0   5.0  14.9  0.0  2024.0         Liverpool  \n",
       "4     Tony Harrington  19.0  12.0  16.6  0.0  2024.0         Liverpool  \n",
       "...               ...   ...   ...   ...  ...     ...               ...  \n",
       "1384   Andre Marriner   8.0   1.0  17.4  0.0  2021.0  Sheffield United  \n",
       "1385     Simon Hooper   7.0   0.0  11.4  1.0  2021.0  Sheffield United  \n",
       "1386    Jonathan Moss  10.0   3.0  17.0  0.0  2021.0  Sheffield United  \n",
       "1387     Robert Jones  11.0   1.0  16.0  1.0  2021.0  Sheffield United  \n",
       "1388     Kevin Friend  12.0   3.0  17.0  0.0  2021.0  Sheffield United  \n",
       "\n",
       "[2577 rows x 22 columns]"
      ]
     },
     "execution_count": 3,
     "metadata": {},
     "output_type": "execute_result"
    }
   ],
   "source": [
    "matches['date'] = pd.to_datetime(matches['date'], errors='coerce')\n",
    "matches.dropna(subset=['date'])\n"
   ]
  },
  {
   "cell_type": "code",
   "execution_count": 4,
   "metadata": {
    "execution": {
     "iopub.execute_input": "2025-01-20T08:18:31.793290Z",
     "iopub.status.busy": "2025-01-20T08:18:31.792779Z",
     "iopub.status.idle": "2025-01-20T08:18:31.799464Z",
     "shell.execute_reply": "2025-01-20T08:18:31.798869Z"
    }
   },
   "outputs": [],
   "source": [
    "\n",
    "matches['result_encoded'] = matches['result'].map({'W':0, 'L':1, 'D':1})\n",
    "matches['venue_encoded'] = matches['venue'].map({'Home':0, 'Away':1})\n",
    "le = LabelEncoder()\n",
    "matches['referee'] = le.fit_transform(matches['referee'])\n"
   ]
  },
  {
   "cell_type": "code",
   "execution_count": 5,
   "metadata": {
    "execution": {
     "iopub.execute_input": "2025-01-20T08:18:31.801715Z",
     "iopub.status.busy": "2025-01-20T08:18:31.801323Z",
     "iopub.status.idle": "2025-01-20T08:18:34.852072Z",
     "shell.execute_reply": "2025-01-20T08:18:34.851328Z"
    }
   },
   "outputs": [],
   "source": [
    "def calculate_last_5_stats(team, date):\n",
    "    \"\"\"\n",
    "    计算给定球队在某日期前的过去五场比赛表现，若不足五场，则返回实际值\n",
    "    \"\"\"\n",
    "    past_matches = matches[\n",
    "        ((matches['team'] == team)) & (matches['date'] < date)\n",
    "    ].tail(5)\n",
    "\n",
    "    total_matches = len(past_matches)\n",
    "    wins = ((past_matches['team'] == team) & (past_matches['result'] == 'W')).sum()\n",
    "\n",
    "    # 计算射门和射正数\n",
    "    shots_for = past_matches['sh'].sum()\n",
    "    shots_on_target_for = past_matches['sot'].sum()\n",
    "    avg_shots_for = shots_for / total_matches if total_matches > 0 else 0\n",
    "    avg_shots_on_target_for = shots_on_target_for / total_matches if total_matches > 0 else 0\n",
    "\n",
    "    gf = past_matches['gf'].sum()\n",
    "    ga = past_matches['ga'].sum()\n",
    "    avg_gf = gf / total_matches if total_matches > 0 else 0\n",
    "    avg_ga = ga / total_matches if total_matches > 0 else 0\n",
    "\n",
    "    return wins, avg_shots_for, avg_shots_on_target_for, avg_gf, avg_ga\n",
    "\n",
    "matches = matches.sort_values(by=['team', 'date']).reset_index(drop=True)\n",
    "matches[['Last5Wins', 'Last5AvgSh', 'Last5AvgSot', 'Last5AvgGf', 'Last5AvgGa']] = matches.apply(\n",
    "    lambda row: pd.Series(calculate_last_5_stats(row['team'], row['date'])),\n",
    "    axis=1\n",
    ")\n",
    "\n"
   ]
  },
  {
   "cell_type": "code",
   "execution_count": 6,
   "metadata": {
    "execution": {
     "iopub.execute_input": "2025-01-20T08:18:34.854583Z",
     "iopub.status.busy": "2025-01-20T08:18:34.854377Z",
     "iopub.status.idle": "2025-01-20T08:18:34.864810Z",
     "shell.execute_reply": "2025-01-20T08:18:34.864295Z"
    }
   },
   "outputs": [],
   "source": [
    "merged_df = pd.merge(\n",
    "    matches[matches[\"venue\"] == \"Home\"],\n",
    "    matches[matches[\"venue\"] == \"Away\"],\n",
    "    on=[\"date\", \"time\", \"referee\", \"comp\", \"day\"],\n",
    "    suffixes=(\"_home\", \"_away\")\n",
    ")\n",
    "\n",
    "merged_df = merged_df[[\n",
    "    \"date\", \"referee\",\n",
    "    \"team_home\", \"team_away\", \"result_encoded_home\",\n",
    "    \"gf_home\", \"ga_home\", \"sh_home\", \"sot_home\",'Last5Wins_home', 'Last5AvgSh_home', 'Last5AvgSot_home', 'Last5AvgGf_home', 'Last5AvgGa_home',\n",
    "    \"gf_away\", \"ga_away\", \"sh_away\", \"sot_away\",'Last5Wins_away', 'Last5AvgSh_away', 'Last5AvgSot_away', 'Last5AvgGf_away', 'Last5AvgGa_away'\n",
    "]]"
   ]
  },
  {
   "cell_type": "code",
   "execution_count": 7,
   "metadata": {
    "execution": {
     "iopub.execute_input": "2025-01-20T08:18:34.866722Z",
     "iopub.status.busy": "2025-01-20T08:18:34.866527Z",
     "iopub.status.idle": "2025-01-20T08:18:34.873075Z",
     "shell.execute_reply": "2025-01-20T08:18:34.872428Z"
    }
   },
   "outputs": [],
   "source": [
    "\n",
    "\n",
    "merged_df['date'] = pd.to_datetime(merged_df['date'])\n",
    "\n",
    "# 对每个 team_home 取 date 最新的行\n",
    "latest_rows = merged_df.loc[merged_df.groupby('team_home')['date'].idxmax()]\n",
    "\n",
    "merged_df = merged_df.drop(columns=[\"team_home\", \"team_away\"])\n"
   ]
  },
  {
   "cell_type": "code",
   "execution_count": 8,
   "metadata": {
    "execution": {
     "iopub.execute_input": "2025-01-20T08:18:34.874877Z",
     "iopub.status.busy": "2025-01-20T08:18:34.874686Z",
     "iopub.status.idle": "2025-01-20T08:18:35.329485Z",
     "shell.execute_reply": "2025-01-20T08:18:35.328772Z"
    }
   },
   "outputs": [
    {
     "name": "stdout",
     "output_type": "stream",
     "text": [
      "测试集准确率: 0.62\n",
      "分类报告:\n",
      "              precision    recall  f1-score   support\n",
      "\n",
      "         0.0       0.61      0.39      0.48       114\n",
      "         1.0       0.62      0.79      0.70       141\n",
      "\n",
      "    accuracy                           0.62       255\n",
      "   macro avg       0.61      0.59      0.59       255\n",
      "weighted avg       0.61      0.62      0.60       255\n",
      "\n"
     ]
    }
   ],
   "source": [
    "from sklearn.model_selection import train_test_split\n",
    "from sklearn.ensemble import RandomForestClassifier\n",
    "from sklearn.metrics import accuracy_score, classification_report\n",
    "\n",
    "feature_cols = [\n",
    "    'Last5Wins_home', 'Last5AvgSh_home', 'Last5AvgSot_home', 'Last5AvgGf_home', 'Last5AvgGa_home',\n",
    "    'Last5Wins_away', 'Last5AvgSh_away', 'Last5AvgSot_away', 'Last5AvgGf_away', 'Last5AvgGa_away'\n",
    "]\n",
    "\n",
    "# 目标列\n",
    "target_col = \"result_encoded_home\"\n",
    "\n",
    "x = merged_df[feature_cols]\n",
    "y = merged_df[target_col]\n",
    "\n",
    "x_train, x_test, y_train, y_test = train_test_split(x, y, test_size=0.2, random_state=10)\n",
    "x_test\n",
    "\n",
    "# 初始化随机森林模型\n",
    "rf = RandomForestClassifier(n_estimators=200, min_samples_leaf=4, min_samples_split=10, random_state=10, max_depth=10)\n",
    "\n",
    "# 训练模型\n",
    "rf.fit(x_train, y_train)\n",
    "\n",
    "y_pred = rf.predict(x_test)\n",
    "\n",
    "# 评估模型\n",
    "accuracy = accuracy_score(y_test, y_pred)\n",
    "print(f\"测试集准确率: {accuracy:.2f}\")\n",
    "\n",
    "print(\"分类报告:\")\n",
    "print(classification_report(y_test, y_pred))"
   ]
  },
  {
   "cell_type": "code",
   "execution_count": 9,
   "metadata": {
    "execution": {
     "iopub.execute_input": "2025-01-20T08:18:35.331840Z",
     "iopub.status.busy": "2025-01-20T08:18:35.331518Z",
     "iopub.status.idle": "2025-01-20T08:18:35.336638Z",
     "shell.execute_reply": "2025-01-20T08:18:35.336099Z"
    }
   },
   "outputs": [],
   "source": [
    "\n",
    "\n",
    "# Function to save team data based on team names\n",
    "def save_team_data(home_team_name, away_team_name):\n",
    "    home_rows = latest_rows[latest_rows['team_home'] == home_team_name]\n",
    "    away_rows = latest_rows[latest_rows['team_home'] == away_team_name]\n",
    "\n",
    "    if not home_rows.empty and not away_rows.empty:\n",
    "        home_selected_row = home_rows.iloc[0]\n",
    "        away_selected_row = away_rows.iloc[0]\n",
    "        result_df = pd.DataFrame([{\n",
    "            \"Last5Wins_home\": home_selected_row[\"Last5Wins_home\"], \n",
    "            \"Last5AvgSh_home\": home_selected_row[\"Last5AvgSh_home\"], \n",
    "            \"Last5AvgSot_home\": home_selected_row[\"Last5AvgSot_home\"], \n",
    "            \"Last5AvgGf_home\": home_selected_row[\"Last5AvgGf_home\"], \n",
    "            \"Last5AvgGa_home\": home_selected_row[\"Last5AvgGa_home\"], \n",
    "            \"Last5Wins_away\": away_selected_row[\"Last5Wins_home\"], \n",
    "            \"Last5AvgSh_away\": away_selected_row[\"Last5AvgSh_home\"], \n",
    "            \"Last5AvgSot_away\": away_selected_row[\"Last5AvgSot_home\"], \n",
    "            \"Last5AvgGf_away\": away_selected_row[\"Last5AvgGf_home\"], \n",
    "            \"Last5AvgGa_away\": away_selected_row[\"Last5AvgGa_home\"]\n",
    "        }])\n",
    "        return result_df\n",
    "    else:\n",
    "        return pd.DataFrame()\n"
   ]
  },
  {
   "cell_type": "code",
   "execution_count": 10,
   "metadata": {
    "execution": {
     "iopub.execute_input": "2025-01-20T08:18:35.338589Z",
     "iopub.status.busy": "2025-01-20T08:18:35.338397Z",
     "iopub.status.idle": "2025-01-20T08:18:35.346588Z",
     "shell.execute_reply": "2025-01-20T08:18:35.346065Z"
    }
   },
   "outputs": [],
   "source": [
    "def next_fixture():\n",
    "    fixtures = []\n",
    "    standings_url = \"https://fbref.com/en/comps/9/Premier-League-Stats\"\n",
    "    data = requests.get(standings_url)\n",
    "\n",
    "    soup = BeautifulSoup(data.text, features=\"lxml\")\n",
    "    standings_table = soup.select('table.stats_table')[0]\n",
    "    links = standings_table.find_all('a')\n",
    "    links = [l.get(\"href\") for l in links]\n",
    "    links = [l for l in links if '/squads/' in l]\n",
    "    team_urls = [f\"https://fbref.com{l}\" for l in links]\n",
    "    for team_url in team_urls:\n",
    "        data = requests.get(team_url)\n",
    "        team_name = team_url.split('/')[-1].replace(\"-Stats\", \"\").replace(\"-\", \" \")\n",
    "        matches = pd.read_html(StringIO(data.text), match=\"Scores & Fixtures\")[0]\n",
    "        matches['Date'] = pd.to_datetime(matches['Date'], errors='coerce')  #获取下一场比赛队伍\n",
    "        future_matches = matches[\n",
    "            (matches['Date'].dt.date >= pd.Timestamp.now().normalize().date())\n",
    "        ]\n",
    "        id = 0\n",
    "        for i in range(0,len(future_matches)):\n",
    "            print(future_matches.iloc[i]['Comp'])\n",
    "            if 'Premier League' in future_matches.iloc[i]['Comp']:\n",
    "                id = i\n",
    "                break\n",
    "        print(id)\n",
    "        if future_matches.iloc[id]['Venue'] == 'Home':   #only add infomation HOME-AWAY\n",
    "            match_record = {\n",
    "                'date':future_matches.iloc[id]['Date'].date(),\n",
    "                'home':team_name,\n",
    "                'away':future_matches.iloc[id]['Opponent']\n",
    "            }\n",
    "            fixtures.append(match_record)\n",
    "            print(f\"date:{future_matches.iloc[id]['Date'].date()}, {team_name} VS {future_matches.iloc[id]['Opponent']}\")\n",
    "        else:\n",
    "            continue\n",
    "        time.sleep(20)\n",
    "    return fixtures\n"
   ]
  },
  {
   "cell_type": "code",
   "execution_count": 11,
   "metadata": {
    "execution": {
     "iopub.execute_input": "2025-01-20T08:18:35.348417Z",
     "iopub.status.busy": "2025-01-20T08:18:35.348226Z",
     "iopub.status.idle": "2025-01-20T08:21:58.901741Z",
     "shell.execute_reply": "2025-01-20T08:21:58.901103Z"
    }
   },
   "outputs": [
    {
     "name": "stdout",
     "output_type": "stream",
     "text": [
      "Champions Lg\n",
      "Premier League\n",
      "1\n",
      "date:2025-01-25, Liverpool VS Ipswich Town\n"
     ]
    },
    {
     "name": "stdout",
     "output_type": "stream",
     "text": [
      "Champions Lg\n",
      "Premier League\n",
      "1\n",
      "Premier League\n",
      "0\n"
     ]
    },
    {
     "name": "stdout",
     "output_type": "stream",
     "text": [
      "Champions Lg\n",
      "Premier League\n",
      "1\n",
      "date:2025-01-25, Manchester City VS Chelsea\n"
     ]
    },
    {
     "name": "stdout",
     "output_type": "stream",
     "text": [
      "Premier League\n",
      "0\n",
      "Premier League\n",
      "0\n",
      "date:2025-01-20, Chelsea VS Wolves\n"
     ]
    },
    {
     "name": "stdout",
     "output_type": "stream",
     "text": [
      "Premier League\n",
      "0\n",
      "date:2025-01-25, Bournemouth VS Nott'ham Forest\n"
     ]
    },
    {
     "name": "stdout",
     "output_type": "stream",
     "text": [
      "Champions Lg\n",
      "Premier League\n",
      "1\n",
      "date:2025-01-26, Aston Villa VS West Ham\n"
     ]
    },
    {
     "name": "stdout",
     "output_type": "stream",
     "text": [
      "Premier League\n",
      "0\n",
      "date:2025-01-25, Brighton and Hove Albion VS Everton\n"
     ]
    },
    {
     "name": "stdout",
     "output_type": "stream",
     "text": [
      "Premier League\n",
      "0\n",
      "date:2025-01-26, Fulham VS Manchester Utd\n"
     ]
    },
    {
     "name": "stdout",
     "output_type": "stream",
     "text": [
      "Premier League\n",
      "0\n",
      "Premier League\n",
      "0\n",
      "date:2025-01-26, Crystal Palace VS Brentford\n"
     ]
    },
    {
     "name": "stdout",
     "output_type": "stream",
     "text": [
      "Europa Lg\n",
      "Premier League\n",
      "1\n"
     ]
    },
    {
     "name": "stdout",
     "output_type": "stream",
     "text": [
      "Premier League\n",
      "0\n",
      "Europa Lg\n",
      "Premier League\n",
      "1\n",
      "date:2025-01-26, Tottenham Hotspur VS Leicester City\n"
     ]
    },
    {
     "name": "stdout",
     "output_type": "stream",
     "text": [
      "Premier League\n",
      "0\n",
      "Premier League\n",
      "0\n"
     ]
    },
    {
     "name": "stdout",
     "output_type": "stream",
     "text": [
      "Premier League\n",
      "0\n",
      "Premier League\n",
      "0\n"
     ]
    },
    {
     "name": "stdout",
     "output_type": "stream",
     "text": [
      "Premier League\n",
      "0\n",
      "date:2025-01-25, Southampton VS Newcastle Utd\n"
     ]
    }
   ],
   "source": [
    "fixtures = []\n",
    "fixtures = next_fixture()"
   ]
  },
  {
   "cell_type": "code",
   "execution_count": 12,
   "metadata": {
    "execution": {
     "iopub.execute_input": "2025-01-20T08:21:58.904204Z",
     "iopub.status.busy": "2025-01-20T08:21:58.903786Z",
     "iopub.status.idle": "2025-01-20T08:21:59.042713Z",
     "shell.execute_reply": "2025-01-20T08:21:59.042043Z"
    }
   },
   "outputs": [],
   "source": [
    "\n",
    "team_name_mapping = {\n",
    "    'Manchester Utd': 'Manchester United',\n",
    "    'West Ham': 'West Ham United',\n",
    "    'Newcastle Utd': 'Newcastle United',\n",
    "    \"Nott'ham Forest\": 'Nottingham Forest',\n",
    "    'Tottenham': 'Tottenham Hotspur',\n",
    "    'Wolves': 'Wolverhampton Wanderers',\n",
    "    'Brighton': 'Brighton and Hove Albion'\n",
    "}\n",
    "\n",
    "for match in fixtures:\n",
    "    if match['home'] in team_name_mapping:\n",
    "        match['home'] = team_name_mapping[match['home']]\n",
    "    if match['away'] in team_name_mapping:\n",
    "        match['away'] = team_name_mapping[match['away']]\n",
    "\n",
    "\n",
    "predicted_results = []\n",
    "\n",
    "data_to_save = []\n",
    "for fixture in fixtures:\n",
    "    home_team = fixture['home']\n",
    "    away_team = fixture['away']\n",
    "    date = fixture['date']   \n",
    "    prediction = rf.predict(save_team_data(home_team, away_team))\n",
    "    result_label = \"Win\" if prediction == 0 else \"Draw or Lose\"\n",
    "    data_to_save.append([date, home_team, away_team, result_label])\n",
    "\n",
    "df = pd.DataFrame(data_to_save, columns=[\"Date\", \"Home Team\", \"Away Team\", \"Result\"])\n",
    "\n",
    "# df.to_excel(\"fixtures_predictions.xlsx\", index=False)\n",
    "df.to_csv(\"fixtures_predictions.txt\", sep=\"\\t\", index=False)\n"
   ]
  },
  {
   "cell_type": "code",
   "execution_count": 13,
   "metadata": {
    "execution": {
     "iopub.execute_input": "2025-01-20T08:21:59.044811Z",
     "iopub.status.busy": "2025-01-20T08:21:59.044609Z",
     "iopub.status.idle": "2025-01-20T08:22:09.058146Z",
     "shell.execute_reply": "2025-01-20T08:22:09.057413Z"
    }
   },
   "outputs": [],
   "source": [
    "time.sleep(10)  #wait for txt\n",
    "update_ui()"
   ]
  }
 ],
 "metadata": {
  "kernelspec": {
   "display_name": ".venv",
   "language": "python",
   "name": "python3"
  },
  "language_info": {
   "codemirror_mode": {
    "name": "ipython",
    "version": 3
   },
   "file_extension": ".py",
   "mimetype": "text/x-python",
   "name": "python",
   "nbconvert_exporter": "python",
   "pygments_lexer": "ipython3",
   "version": "3.10.16"
  }
 },
 "nbformat": 4,
 "nbformat_minor": 2
}
